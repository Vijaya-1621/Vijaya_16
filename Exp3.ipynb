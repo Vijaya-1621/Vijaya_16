{
  "nbformat": 4,
  "nbformat_minor": 0,
  "metadata": {
    "colab": {
      "provenance": [],
      "authorship_tag": "ABX9TyNQ0kg8RkRlGITyT9lH3IUo",
      "include_colab_link": true
    },
    "kernelspec": {
      "name": "python3",
      "display_name": "Python 3"
    },
    "language_info": {
      "name": "python"
    }
  },
  "cells": [
    {
      "cell_type": "markdown",
      "metadata": {
        "id": "view-in-github",
        "colab_type": "text"
      },
      "source": [
        "<a href=\"https://colab.research.google.com/github/Vijaya-1621/Vijaya_16/blob/main/Exp3.ipynb\" target=\"_parent\"><img src=\"https://colab.research.google.com/assets/colab-badge.svg\" alt=\"Open In Colab\"/></a>"
      ]
    },
    {
      "cell_type": "code",
      "execution_count": 13,
      "metadata": {
        "colab": {
          "base_uri": "https://localhost:8080/"
        },
        "id": "0M9_E4V7L4Sb",
        "outputId": "8138e257-3523-482e-adbd-bc5b1a8a591f"
      },
      "outputs": [
        {
          "output_type": "stream",
          "name": "stdout",
          "text": [
            "pearson's correlation coefficients: 0.9999999999999998\n"
          ]
        }
      ],
      "source": [
        "import numpy as np\n",
        "def pearson_correlation(x,y):\n",
        " mean_x=np.mean(x)\n",
        " mean_y=np.mean(y)\n",
        " covariance=np.sum((x-mean_x)*(y-mean_y))\n",
        " std_dev_x=np.sqrt(np.sum((x-mean_x)**2))\n",
        " std_dev_y=np.sqrt(np.sum((y-mean_y)**2))\n",
        " correlation=covariance/(std_dev_x*std_dev_y)\n",
        " return correlation\n",
        " x=np.array([1,2,3,4,5])\n",
        "y=np.array([2,3,4,5,6])\n",
        "print(\"pearson's correlation coefficients:\",pearson_correlation(x,y))\n",
        "\n"
      ]
    },
    {
      "cell_type": "code",
      "source": [
        "from sklearn.metrics.pairwise import cosine_similarity\n",
        "vector1=np.array([1,2,3])\n",
        "vector2=np.array([4,5,6])\n",
        "cosine_sim=cosine_similarity(vector1.reshape(1,-1),vector2.reshape(1,-1))\n",
        "print(\"cosine similarity:\",cosine_sim[0],[0])\n",
        ""
      ],
      "metadata": {
        "colab": {
          "base_uri": "https://localhost:8080/"
        },
        "id": "Yr6t3HJ-Pciw",
        "outputId": "2eedfaab-4e46-48fd-f4de-2881c9de9e7e"
      },
      "execution_count": 7,
      "outputs": [
        {
          "output_type": "stream",
          "name": "stdout",
          "text": [
            "cosine similarity: [0.97463185] [0]\n"
          ]
        }
      ]
    },
    {
      "cell_type": "code",
      "source": [
        "def jaccard_similarity(set1,set2):\n",
        "  intersection=len(set1.intersection(set2))\n",
        "  union=len(set1.union(set2))\n",
        "  return intersection/union\n",
        "set1=set([1,2,3])\n",
        "set2=set([2,3,4])\n",
        "print(\"jaccard similarity:\",jaccard_similarity(set1,set2))"
      ],
      "metadata": {
        "colab": {
          "base_uri": "https://localhost:8080/"
        },
        "id": "FECJxH82Sl8z",
        "outputId": "dcef0f07-519a-4c7c-e930-99692e51c80e"
      },
      "execution_count": 6,
      "outputs": [
        {
          "output_type": "stream",
          "name": "stdout",
          "text": [
            "jaccard similarity: 0.5\n"
          ]
        }
      ]
    },
    {
      "cell_type": "code",
      "source": [
        "def euclidian_distance(x,y):\n",
        "  return np.sqrt(np.sum((x-y)**2))\n",
        "point1=np.array([1,2,3])\n",
        "point2=np.array([4,5,6])\n",
        "print(\"Euclidian Distance:\",euclidian_distance(point1,point2))\n"
      ],
      "metadata": {
        "colab": {
          "base_uri": "https://localhost:8080/"
        },
        "id": "noSd98tbR7Ar",
        "outputId": "055c255e-c72d-4753-9fd7-94bc5cccdb55"
      },
      "execution_count": 10,
      "outputs": [
        {
          "output_type": "stream",
          "name": "stdout",
          "text": [
            "Euclidian Distance: 5.196152422706632\n"
          ]
        }
      ]
    },
    {
      "cell_type": "code",
      "source": [
        "def manhattan_distance(x,y):\n",
        "  return np.sum(np.abs(x-y))\n",
        "point1=np.array([1,2,3])\n",
        "point2=np.array([4,5,6])\n",
        "print(\"Euclidian Distance:\",manhattan_distance(point1,point2))"
      ],
      "metadata": {
        "colab": {
          "base_uri": "https://localhost:8080/"
        },
        "id": "O-VLG9RGTSCb",
        "outputId": "1a56a81a-58e5-48d9-b522-29274aa32637"
      },
      "execution_count": 11,
      "outputs": [
        {
          "output_type": "stream",
          "name": "stdout",
          "text": [
            "Euclidian Distance: 9\n"
          ]
        }
      ]
    }
  ]
}